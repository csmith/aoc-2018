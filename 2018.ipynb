{
 "cells": [
  {
   "cell_type": "markdown",
   "metadata": {
    "collapsed": true
   },
   "source": [
    "# Advent of Code 2018\n",
    "\n",
    "This notebook contains my solution to 2018's [Advent of Code](https://adventofcode.com/2018) puzzles. The solutions\n",
    "are all written in Python 3; one or two may require the [NumPy](http://www.numpy.org/) package, but the rest should\n",
    "work out-of-the-box.\n",
    "\n",
    "### Licence\n",
    "\n",
    "To the extent possible under law, I waive all copyright and related or neighboring rights to this work. This work is\n",
    "published from the United Kingdom. See [LICENCE.md](LICENCE.md) for full details.\n",
    "\n",
    "## Common utilities and imports"
   ]
  },
  {
   "cell_type": "code",
   "execution_count": 1,
   "metadata": {
    "day": 0
   },
   "outputs": [],
   "source": [
    "import itertools as it\n",
    "import functools as ft\n",
    "import operator as op\n",
    "\n",
    "\n",
    "def get_input(day):\n",
    "    with open(f'data/{day:02}.txt') as file:\n",
    "        return [l.strip() for l in file.readlines()]"
   ]
  },
  {
   "cell_type": "markdown",
   "metadata": {},
   "source": [
    "## Day 1: Chronal Calibration\n",
    "\n",
    "\"We've detected some temporal anomalies,\" one of Santa's Elves at the Temporal Anomaly Research and Detection Instrument Station tells you. She sounded pretty worried when she called you down here. \"At 500-year intervals into the past, someone has been changing Santa's history!\"\n",
    "\n",
    "\"The good news is that the changes won't propagate to our time stream for another 25 days, and we have a device\" - she attaches something to your wrist - \"that will let you fix the changes with no such propagation delay. It's configured to send you 500 years further into the past every few days; that was the best we could do on such short notice.\"\n",
    "\n",
    "\"The bad news is that we are detecting roughly fifty anomalies throughout time; the device will indicate fixed anomalies with stars. The other bad news is that we only have one device and you're the best person for the job! Good lu--\" She taps a button on the device and you suddenly feel like you're falling. To save Christmas, you need to get all fifty stars by December 25th.\n",
    "\n",
    "Collect stars by solving puzzles. Two puzzles will be made available on each day in the advent calendar; the second puzzle is unlocked when you complete the first. Each puzzle grants one star. Good luck!\n",
    "\n",
    "After feeling like you've been falling for a few minutes, you look at the device's tiny screen. \"Error: Device must be calibrated before first use. Frequency drift detected. Cannot maintain destination lock.\" Below the message, the device shows a sequence of changes in frequency (your puzzle input). A value like +6 means the current frequency increases by 6; a value like -3 means the current frequency decreases by 3.\n",
    "\n",
    "For example, if the device displays frequency changes of +1, -2, +3, +1, then starting from a frequency of zero, the following changes would occur:\n",
    "\n",
    "    Current frequency  0, change of +1; resulting frequency  1.\n",
    "    Current frequency  1, change of -2; resulting frequency -1.\n",
    "    Current frequency -1, change of +3; resulting frequency  2.\n",
    "    Current frequency  2, change of +1; resulting frequency  3.\n",
    "\n",
    "In this example, the resulting frequency is 3.\n",
    "\n",
    "Here are other example situations:\n",
    "\n",
    "    +1, +1, +1 results in  3\n",
    "    +1, +1, -2 results in  0\n",
    "    -1, -2, -3 results in -6\n",
    "\n",
    "Starting with a frequency of zero, what is the resulting frequency after all of the changes in frequency have been applied?"
   ]
  },
  {
   "cell_type": "code",
   "execution_count": 2,
   "metadata": {
    "day": 1
   },
   "outputs": [
    {
     "data": {
      "text/plain": [
       "531"
      ]
     },
     "execution_count": 2,
     "metadata": {},
     "output_type": "execute_result"
    }
   ],
   "source": [
    "sum(map(int, get_input(1)))"
   ]
  },
  {
   "cell_type": "markdown",
   "metadata": {},
   "source": [
    "You notice that the device repeats the same frequency change list over and over. To calibrate the device, you need to find the first frequency it reaches twice.\n",
    "\n",
    "For example, using the same list of changes above, the device would loop as follows:\n",
    "\n",
    "    Current frequency  0, change of +1; resulting frequency  1.\n",
    "    Current frequency  1, change of -2; resulting frequency -1.\n",
    "    Current frequency -1, change of +3; resulting frequency  2.\n",
    "    Current frequency  2, change of +1; resulting frequency  3.\n",
    "    (At this point, the device continues from the start of the list.)\n",
    "    Current frequency  3, change of +1; resulting frequency  4.\n",
    "    Current frequency  4, change of -2; resulting frequency  2, which has already been seen.\n",
    "\n",
    "In this example, the first frequency reached twice is 2. Note that your device might need to repeat its list of frequency changes many times before a duplicate frequency is found, and that duplicates might be found while in the middle of processing the list.\n",
    "\n",
    "Here are other examples:\n",
    "\n",
    "    +1, -1 first reaches 0 twice.\n",
    "    +3, +3, +4, -2, -4 first reaches 10 twice.\n",
    "    -6, +3, +8, +5, -6 first reaches 5 twice.\n",
    "    +7, +7, -2, -7, -4 first reaches 14 twice.\n",
    "\n",
    "What is the first frequency your device reaches twice?"
   ]
  },
  {
   "cell_type": "code",
   "execution_count": 3,
   "metadata": {
    "day": 1
   },
   "outputs": [
    {
     "data": {
      "text/plain": [
       "76787"
      ]
     },
     "execution_count": 3,
     "metadata": {},
     "output_type": "execute_result"
    }
   ],
   "source": [
    "def first_duplicate(values):\n",
    "    seen = set()\n",
    "    for item in values:\n",
    "        if item in seen:\n",
    "            return item\n",
    "        seen.add(item)\n",
    "    return None\n",
    "\n",
    "\n",
    "first_duplicate(it.accumulate(it.cycle(map(int, get_input(1)))))"
   ]
  },
  {
   "cell_type": "markdown",
   "metadata": {},
   "source": [
    "## Day 2: Inventory Management System\n",
    "\n",
    "You stop falling through time, catch your breath, and check the screen on the device. \"Destination reached. Current Year: 1518. Current Location: North Pole Utility Closet 83N10.\" You made it! Now, to find those anomalies.\n",
    "\n",
    "Outside the utility closet, you hear footsteps and a voice. \"...I'm not sure either. But now that so many people have chimneys, maybe he could sneak in that way?\" Another voice responds, \"Actually, we've been working on a new kind of suit that would let him fit through tight spaces like that. But, I heard that a few days ago, they lost the prototype fabric, the design plans, everything! Nobody on the team can even seem to remember important details of the project!\"\n",
    "\n",
    "\"Wouldn't they have had enough fabric to fill several boxes in the warehouse? They'd be stored together, so the box IDs should be similar. Too bad it would take forever to search the warehouse for two similar box IDs...\" They walk too far away to hear any more.\n",
    "\n",
    "Late at night, you sneak to the warehouse - who knows what kinds of paradoxes you could cause if you were discovered - and use your fancy wrist device to quickly scan every box and produce a list of the likely candidates (your puzzle input).\n",
    "\n",
    "To make sure you didn't miss any, you scan the likely candidate boxes again, counting the number that have an ID containing exactly two of any letter and then separately counting those with exactly three of any letter. You can multiply those two counts together to get a rudimentary checksum and compare it to what your device predicts.\n",
    "\n",
    "For example, if you see the following box IDs:\n",
    "\n",
    "    abcdef contains no letters that appear exactly two or three times.\n",
    "    bababc contains two a and three b, so it counts for both.\n",
    "    abbcde contains two b, but no letter appears exactly three times.\n",
    "    abcccd contains three c, but no letter appears exactly two times.\n",
    "    aabcdd contains two a and two d, but it only counts once.\n",
    "    abcdee contains two e.\n",
    "    ababab contains three a and three b, but it only counts once.\n",
    "\n",
    "Of these box IDs, four of them contain a letter which appears exactly twice, and three of them contain a letter which appears exactly three times. Multiplying these together produces a checksum of 4 * 3 = 12.\n",
    "\n",
    "What is the checksum for your list of box IDs?"
   ]
  },
  {
   "cell_type": "code",
   "execution_count": 4,
   "metadata": {
    "day": 2
   },
   "outputs": [
    {
     "data": {
      "text/plain": [
       "4920"
      ]
     },
     "execution_count": 4,
     "metadata": {},
     "output_type": "execute_result"
    }
   ],
   "source": [
    "def count_dupes(str):\n",
    "    return [any(str.count(x) == i for x in str) for i in (2,3)]\n",
    "\n",
    "op.mul(*map(sum, zip(*map(count_dupes, get_input(2)))))"
   ]
  },
  {
   "cell_type": "markdown",
   "metadata": {},
   "source": [
    "Confident that your list of box IDs is complete, you're ready to find the boxes full of prototype fabric.\n",
    "\n",
    "The boxes will have IDs which differ by exactly one character at the same position in both strings. For example, given the following box IDs:\n",
    "\n",
    "    abcde\n",
    "    fghij\n",
    "    klmno\n",
    "    pqrst\n",
    "    fguij\n",
    "    axcye\n",
    "    wvxyz\n",
    "\n",
    "The IDs abcde and axcye are close, but they differ by two characters (the second and fourth). However, the IDs fghij and fguij differ by exactly one character, the third (h and u). Those must be the correct boxes.\n",
    "\n",
    "What letters are common between the two correct box IDs? (In the example above, this is found by removing the differing character from either ID, producing fgij.)"
   ]
  },
  {
   "cell_type": "code",
   "execution_count": 5,
   "metadata": {
    "day": 2
   },
   "outputs": [
    {
     "data": {
      "text/plain": [
       "'fonbwmjquwtapeyzikghtvdxl'"
      ]
     },
     "execution_count": 5,
     "metadata": {},
     "output_type": "execute_result"
    }
   ],
   "source": [
    "def common_letters(str1, str2):\n",
    "    return ''.join(i for i, j in zip(str1, str2) if i == j)\n",
    "\n",
    "max(it.starmap(common_letters, it.combinations(get_input(2), 2)), key=len)"
   ]
  }
 ],
 "metadata": {
  "celltoolbar": "Edit Metadata",
  "kernelspec": {
   "display_name": "Python 3",
   "language": "python",
   "name": "python3"
  },
  "language_info": {
   "codemirror_mode": {
    "name": "ipython",
    "version": 3
   },
   "file_extension": ".py",
   "mimetype": "text/x-python",
   "name": "python",
   "nbconvert_exporter": "python",
   "pygments_lexer": "ipython3",
   "version": "3.7.1"
  }
 },
 "nbformat": 4,
 "nbformat_minor": 1
}
